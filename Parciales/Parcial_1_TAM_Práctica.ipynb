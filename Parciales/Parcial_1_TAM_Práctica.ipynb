{
  "nbformat": 4,
  "nbformat_minor": 0,
  "metadata": {
    "colab": {
      "private_outputs": true,
      "provenance": [],
      "include_colab_link": true
    },
    "kernelspec": {
      "name": "python3",
      "display_name": "Python 3"
    },
    "language_info": {
      "name": "python"
    }
  },
  "cells": [
    {
      "cell_type": "markdown",
      "metadata": {
        "id": "view-in-github",
        "colab_type": "text"
      },
      "source": [
        "<a href=\"https://colab.research.google.com/github/Yomunozs/Aprendizaje_Maquina/blob/main/Parciales/Parcial_1_TAM_Pr%C3%A1ctica.ipynb\" target=\"_parent\"><img src=\"https://colab.research.google.com/assets/colab-badge.svg\" alt=\"Open In Colab\"/></a>"
      ]
    },
    {
      "cell_type": "markdown",
      "source": [
        "2 (Valor 2.5 puntos) Genere una simulacion sobre Python de los regresores por m ´ axima verosimilitud y m ´ aximo a-posteriori, discu- ´\n",
        "tidos en el punto 2.1, para ajustar la senal: ˜ tn = cos[xn/3] + cos[xn/4] + ηn, con xn ∈ [0, 24π], contaminada con ruido blanco\n",
        "Gaussiano ηn (SNRdB = 2[dB]). Asuma mapeo ϕ(·) del tipo polinomial de orden Q y prior p(w) = N (w|0, σ2\n",
        "w). Simule 500\n",
        "datos para entrenar los modelos y 200 para predecir. Incluya normalizacion por MinMaxScaler() de sklearn despu ´ es de generar el ´\n",
        "mapeo no lineal"
      ],
      "metadata": {
        "id": "UIthvRcbsoc3"
      }
    },
    {
      "cell_type": "code",
      "source": [
        "import numpy as np\n",
        "import matplotlib.pyplot as plt\n",
        "\n",
        "from sklearn.linear_model import Ridge\n",
        "from sklearn.preprocessing import PolynomialFeatures\n",
        "from sklearn.model_selection import ShuffleSplit\n",
        "from sklearn.preprocessing import MinMaxScaler\n",
        "from sklearn.preprocessing import PolynomialFeatures\n",
        "from sklearn.model_selection import train_test_split"
      ],
      "metadata": {
        "id": "JlBPqBm503sl"
      },
      "execution_count": null,
      "outputs": []
    },
    {
      "cell_type": "code",
      "execution_count": null,
      "metadata": {
        "id": "xzefHzEBtQ7l"
      },
      "outputs": [],
      "source": [
        "N = 700\n",
        "x_n = np.linspace(0,24*np.pi,N)\n",
        "t_n = np.cos(x_n/3)+np.cos(x_n/4)\n",
        "\n",
        "#función cálculo varianza del ruido a partir del snr dB\n",
        "def var_snr(x,snrdB): #x vector de datos (señal), snrdB SNR en dB\n",
        "    Px = np.mean(x**2)#estimador potencia media de la señal\n",
        "    return Px/(10**(snrdB/10))\n",
        "snrdB = 2\n",
        "var_r = var_snr(t_n,snrdB)\n",
        "\n",
        "\n",
        "t_nr = t_n + np.sqrt(var_r)*np.random.randn(N)\n",
        "\n",
        "\n",
        "x_n = x_n.reshape(-1,1)#filas = realizaciones-muestras\n",
        "t_nr = t_nr.reshape(-1,1)\n",
        "\n",
        "plt.figure(figsize = (5, 3))\n",
        "plt.plot(x_n, t_n, label='$t_n^*$', c='r', linewidth=2)\n",
        "plt.scatter(x_n, t_nr, c='b', label='$t_n$')\n",
        "plt.legend()\n",
        "plt.xlabel('x_n')\n",
        "plt.ylabel('t_n')\n",
        "plt.show()\n",
        "\n",
        "\n"
      ]
    },
    {
      "cell_type": "code",
      "source": [
        "#mapeo no lineal\n",
        "x_train, x_test, t_train, t_test = train_test_split(x_n, t_nr,\n",
        "                                                    test_size=200/N, random_state=42)\n",
        "\n",
        "print(x_train.shape,x_test.shape,t_train.shape,t_test.shape)"
      ],
      "metadata": {
        "id": "V1K35Imcthge"
      },
      "execution_count": null,
      "outputs": []
    },
    {
      "cell_type": "code",
      "source": [
        "#rs = ShuffleSplit(n_splits=1, random_state=0, test_size=0.2)\n",
        "#for i, (x_train, x_test) in enumerate(rs.split(x_n)):\n",
        "#   print(i)\n"
      ],
      "metadata": {
        "id": "oCmdJK4MLn7W"
      },
      "execution_count": null,
      "outputs": []
    },
    {
      "cell_type": "code",
      "source": [
        "#generación representación polinomial, desde la libreria sklearn\n",
        "Q = 12 #grado del polinomio\n",
        "phiQ = PolynomialFeatures(degree=Q)\n",
        "Phi_xn = phiQ.fit_transform(x_n)#representar datos desde polinomio"
      ],
      "metadata": {
        "id": "lo4-_JKyD8BY"
      },
      "execution_count": null,
      "outputs": []
    },
    {
      "cell_type": "code",
      "source": [
        "#print(x_train.shape, x_test.shape)\n",
        "#scaler = MinMaxScaler()\n",
        "#x_train = scaler.fit_transform(x_train.reshape(-1,1))\n",
        "#x_test = scaler.transform(x_test.reshape(-1,1))\n",
        "\n",
        "#x_train.reshape(-1,1)\n",
        "#x_test.reshape(-1,1)\n",
        "print(x_train[:,0].shape, x_test.shape)"
      ],
      "metadata": {
        "id": "E2l-nuPDtCnk"
      },
      "execution_count": null,
      "outputs": []
    },
    {
      "cell_type": "code",
      "source": [
        "#regresor\n",
        "lambdaR = 1e-15#hiperparámetro de regularización\n",
        "reg_mc = Ridge(alpha=lambdaR)\n",
        "\n",
        "x_train = np.sort(x_train)\n",
        "x_test = np.sort(x_test)\n",
        "\n",
        "reg_mc.fit(Phi_xn[x_train],t_nr[x_train])\n",
        "\n",
        "t_mc = reg_mc.predict(Phi_xn[x_test])"
      ],
      "metadata": {
        "id": "niD50ZyCzGSl"
      },
      "execution_count": null,
      "outputs": []
    },
    {
      "cell_type": "code",
      "source": [
        "plt.figure(figsize=(5,3))\n",
        "plt.plot(x_n,t_n,c='r',label='$t^*$')\n",
        "plt.scatter(x_n,t_nr,c='b',label='$t$')\n",
        "plt.plot(x_test,t_mc,c='g',label='$t_{mcr}$')\n",
        "\n",
        "plt.legend()\n",
        "plt.xlabel('x')\n",
        "plt.ylabel('t')\n",
        "plt.show()\n",
        "\n",
        "plt.figure(figsize=(5,3))\n",
        "plt.stem(reg_mc.coef_[0])\n",
        "plt.ylabel('pesos')\n",
        "plt.show()"
      ],
      "metadata": {
        "id": "lIp9Fs0WzGIV"
      },
      "execution_count": null,
      "outputs": []
    },
    {
      "cell_type": "code",
      "source": [
        "#gráfica estimación con predictiva en ML:\n",
        "var_ml = (np.linalg.norm(t_train-reg_mc.predict(Phi_xn[x_train]))**2)/len(t_nr[t_train])\n",
        "\n",
        "plt.figure(figsize=(5,3))\n",
        "plt.plot(x_n,t_n,c='r',label='$t$')\n",
        "plt.scatter(x_n,t_nr,c='b',label='$t+\\eta$')\n",
        "plt.plot(x_test,t_mc,c='g',label='$t_{*}$')\n",
        "plt.fill_between(x_test.ravel(), t_mc.ravel() - np.sqrt(var_ml)*np.ones(len(t_mc)),\n",
        "                t_mc.ravel() + np.sqrt(var_ml)*np.ones(len(t_mc)), alpha=0.2)\n",
        "\n",
        "plt.legend()\n",
        "plt.xlabel('x')\n",
        "plt.ylabel('t')\n",
        "plt.show()\n",
        "\n",
        "print(var_ml)"
      ],
      "metadata": {
        "id": "3j6dS74G5-t1"
      },
      "execution_count": null,
      "outputs": []
    },
    {
      "cell_type": "code",
      "source": [
        "#solución Maxima Verosimilitud\n",
        "\n",
        "def my_ML(phi, t_n):\n",
        "  w_ml = np.linalg.inv(phi.T @ phi) @ phi.T @ t_n\n",
        "\n",
        "  s_ml = 1\n",
        "\n",
        "\n",
        "  return w_ml, s_ml\n",
        "\n",
        "w, s = my_ML(Phi_xn, t_n)\n",
        "phiN  = phiQ.fit_transform(x_test)#representar datos desde polinomio\n",
        "phiN = np.sort(phiN)\n",
        "tn =  phiN @ w\n",
        "plt.plot(x_test,tn)\n",
        "plt.plot(x_n,t_n)"
      ],
      "metadata": {
        "id": "FUcBD_HX0BnH"
      },
      "execution_count": null,
      "outputs": []
    },
    {
      "cell_type": "code",
      "source": [
        "\n",
        "\n",
        "#def my_map():\n",
        "#return\n",
        "\n",
        "#..."
      ],
      "metadata": {
        "id": "-JSdXsoNw2c_"
      },
      "execution_count": null,
      "outputs": []
    },
    {
      "cell_type": "code",
      "source": [],
      "metadata": {
        "id": "8lEzTmUPw-9m"
      },
      "execution_count": null,
      "outputs": []
    }
  ]
}