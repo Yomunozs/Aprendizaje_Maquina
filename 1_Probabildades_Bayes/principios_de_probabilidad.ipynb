{
  "metadata": {
    "kernelspec": {
      "language": "python",
      "display_name": "Python 3",
      "name": "python3"
    },
    "language_info": {
      "name": "python",
      "version": "3.10.13",
      "mimetype": "text/x-python",
      "codemirror_mode": {
        "name": "ipython",
        "version": 3
      },
      "pygments_lexer": "ipython3",
      "nbconvert_exporter": "python",
      "file_extension": ".py"
    },
    "kaggle": {
      "accelerator": "none",
      "dataSources": [],
      "dockerImageVersionId": 30646,
      "isInternetEnabled": false,
      "language": "python",
      "sourceType": "notebook",
      "isGpuEnabled": false
    },
    "colab": {
      "name": "TAM - principios de probabilidad",
      "provenance": [],
      "include_colab_link": true
    }
  },
  "nbformat_minor": 0,
  "nbformat": 4,
  "cells": [
    {
      "cell_type": "markdown",
      "metadata": {
        "id": "view-in-github",
        "colab_type": "text"
      },
      "source": [
        "<a href=\"https://colab.research.google.com/github/Yomunozs/Aprendizaje_Maquina/blob/main/1_Probabildades_Bayes/principios_de_probabilidad.ipynb\" target=\"_parent\"><img src=\"https://colab.research.google.com/assets/colab-badge.svg\" alt=\"Open In Colab\"/></a>"
      ]
    },
    {
      "cell_type": "markdown",
      "source": [
        "# Ejercicio 1 - principio de probabilidad\n",
        "\n",
        "$p(A|B) = \\frac{p(B|A)p(A)}{P(B)}$\n",
        "\n",
        "Este ejercicio consiste en mostrar todas las posibles probabilidades marginales y conjuntas dados que se conocen la lista de eventos y los priors."
      ],
      "metadata": {
        "id": "EjvbIH4qL4j7"
      }
    },
    {
      "cell_type": "code",
      "source": [
        "import numpy as np\n",
        "\n",
        "def mybayes(list_event, priors):\n",
        "    \"\"\"\n",
        "    Estimación posterior desde Bayes\n",
        "    \"\"\"\n",
        "\n",
        "    # Número de cajas\n",
        "    nB = len(list_event)\n",
        "\n",
        "    # Eventos de cada caja\n",
        "    even_ = np.zeros(nB)\n",
        "\n",
        "    # Encontrar todas las frutas distintas\n",
        "    frutas = set()\n",
        "    for sublista in list_event:\n",
        "        frutas.update(sublista)\n",
        "    frutas = list(frutas)\n",
        "\n",
        "    # Calcular probabilidades marginales de cada fruta\n",
        "    marginales = np.zeros(len(frutas))\n",
        "    for i, fruta in enumerate(frutas):\n",
        "        marginales[i] = sum([priors[b] * list_event[b].count(fruta) / len(list_event[b]) for b in range(nB)])\n",
        "        print(f'P(F={fruta}) = {marginales[i]:.4f}')\n",
        "\n",
        "    # Calcular las probabilidades condicionales\n",
        "    for b in range(nB):\n",
        "        # Total de frutas en la caja b\n",
        "        num_total = len(list_event[b])\n",
        "\n",
        "        for fruta in np.unique(list_event[b]):\n",
        "            index_fruta = frutas.index(fruta)\n",
        "            num_veces_f = list_event[b].count(fruta)  # Cuántas veces la fruta fruta está en la caja b-ésima\n",
        "\n",
        "            verosim = num_veces_f / num_total\n",
        "            posterior = (verosim * priors[b]) / marginales[index_fruta]\n",
        "            print(f'P(B = {chr(65+b)} | F={fruta}) = {posterior:.4f}')"
      ],
      "metadata": {
        "execution": {
          "iopub.status.busy": "2024-02-18T22:54:03.138449Z",
          "iopub.execute_input": "2024-02-18T22:54:03.138828Z",
          "iopub.status.idle": "2024-02-18T22:54:03.181021Z",
          "shell.execute_reply.started": "2024-02-18T22:54:03.138788Z",
          "shell.execute_reply": "2024-02-18T22:54:03.179989Z"
        },
        "trusted": true,
        "id": "XPSxfFYeL4j-"
      },
      "execution_count": null,
      "outputs": []
    },
    {
      "cell_type": "code",
      "source": [
        "list_event = [[1,1,0,0,0,0,0,0], [1,1,1,0,2,2], [2,1,0]]\n",
        "priors = np.array([0.3, 0.6, 0.1])\n",
        "\n",
        "mybayes(list_event, priors)"
      ],
      "metadata": {
        "execution": {
          "iopub.status.busy": "2024-02-18T22:54:03.182851Z",
          "iopub.execute_input": "2024-02-18T22:54:03.183176Z",
          "iopub.status.idle": "2024-02-18T22:54:03.194357Z",
          "shell.execute_reply.started": "2024-02-18T22:54:03.183148Z",
          "shell.execute_reply": "2024-02-18T22:54:03.193177Z"
        },
        "trusted": true,
        "id": "HoVN7dGWL4kA"
      },
      "execution_count": null,
      "outputs": []
    },
    {
      "cell_type": "markdown",
      "source": [
        "****"
      ],
      "metadata": {
        "id": "mYQdQBVoL4kB"
      }
    },
    {
      "cell_type": "markdown",
      "source": [
        "**Ejercicio 2: distribuciones Gaussianas**"
      ],
      "metadata": {
        "id": "uOnS7X93L4kB"
      }
    },
    {
      "cell_type": "code",
      "source": [
        "import numpy as np\n",
        "import matplotlib.pyplot as plt\n",
        "\n",
        "# Generación de datos sintéticos\n",
        "m1 = 0.1\n",
        "v1 = 0.8\n",
        "n1 = 100\n",
        "x1 =np.random.normal(m1,v1, n1)\n",
        "\n",
        "m2 = 1.5\n",
        "v2 = 0.6\n",
        "n2 = 80\n",
        "x2 =np.random.normal(m2,v2,n2)\n",
        "\n",
        "m_y1 = 0.5\n",
        "v_y1 = 0.15\n",
        "n_y1 = n1\n",
        "y1 = np.random.normal(m_y1,v_y1, n_y1)\n",
        "\n",
        "m_y2 = 1.5\n",
        "v_y2 = 0.15\n",
        "n_y2 = n2\n",
        "y2 = np.random.normal(m_y2,v_y2, n_y2)\n"
      ],
      "metadata": {
        "execution": {
          "iopub.status.busy": "2024-02-18T22:54:25.084482Z",
          "iopub.execute_input": "2024-02-18T22:54:25.084859Z",
          "iopub.status.idle": "2024-02-18T22:54:25.094283Z",
          "shell.execute_reply.started": "2024-02-18T22:54:25.084832Z",
          "shell.execute_reply": "2024-02-18T22:54:25.092735Z"
        },
        "trusted": true,
        "id": "MSJnNpXqL4kB"
      },
      "execution_count": null,
      "outputs": []
    },
    {
      "cell_type": "code",
      "source": [
        "### P(Y)\n",
        "\n",
        "ind_y1 = [i for i,valor in enumerate(y1) if valor<1]\n",
        "P_y1 = len(ind_y1)\n",
        "\n",
        "ind_y2 = [i for i,valor in enumerate(y2) if valor>=1]\n",
        "P_y2 = len(ind_y2)\n",
        "\n",
        "### P(X)\n",
        "\n",
        "# primero dividimos en 9 subintervalos encontrando la distancia de cada uno\n",
        "\n",
        "X = np.concatenate((x1,x2))\n",
        "dist = np.abs(max(X)-min(X))/9\n",
        "P_X = np.zeros(9)\n",
        "\n",
        "for i in range(len(P_X)):\n",
        "    P_X[i] = sum(1 for elemento in X if min(X) + i * dist < elemento < min(X) + (i + 1) * dist) / len(X)\n",
        "### P(X|Y=1)\n",
        "\n",
        "P_XY1 = np.zeros(9)\n",
        "\n",
        "for i in range(len(P_XY1)):\n",
        "    P_XY1[i] =  sum(1 for elemento in x1 if min(x1) + i*dist < elemento < min(x1)+(i+1)*dist)/len(x1)"
      ],
      "metadata": {
        "execution": {
          "iopub.status.busy": "2024-02-18T22:56:24.302353Z",
          "iopub.execute_input": "2024-02-18T22:56:24.30273Z",
          "iopub.status.idle": "2024-02-18T22:56:24.418858Z",
          "shell.execute_reply.started": "2024-02-18T22:56:24.302701Z",
          "shell.execute_reply": "2024-02-18T22:56:24.417647Z"
        },
        "trusted": true,
        "id": "EJ9mgTV-L4kC"
      },
      "execution_count": null,
      "outputs": []
    },
    {
      "cell_type": "code",
      "source": [
        "# Función que devuele la distribución normal/gaussiana\n",
        "def dist_normal(mu, varianza, x):\n",
        "    exponente = -((x - mu) ** 2) / (2 * varianza)   # devuelve otro vector, ya que a cada elemento se le resta la media y cada elemento se eleva al cuadrado\n",
        "    coeficiente = 1 / np.sqrt(2 * np.pi * varianza) # Ej: x - mu = [1,2,4] - 2 = [-1,0,2]\n",
        "    return coeficiente * np.exp(exponente)\n"
      ],
      "metadata": {
        "execution": {
          "iopub.status.busy": "2024-02-18T22:56:43.288681Z",
          "iopub.execute_input": "2024-02-18T22:56:43.289063Z",
          "iopub.status.idle": "2024-02-18T22:56:43.296052Z",
          "shell.execute_reply.started": "2024-02-18T22:56:43.289033Z",
          "shell.execute_reply": "2024-02-18T22:56:43.294823Z"
        },
        "trusted": true,
        "id": "o5D7bjlKL4kC"
      },
      "execution_count": null,
      "outputs": []
    },
    {
      "cell_type": "code",
      "source": [
        "fig, axs = plt.subplots(2,2)\n",
        "axs[0,0].scatter(x1, y1, c = 'b')\n",
        "axs[0,0].scatter(x2, y2, c = 'b')\n",
        "axs[0,0].set_xticks([])\n",
        "axs[0,0].set_xlabel('X')\n",
        "axs[0,0].set_yticks([])\n",
        "axs[0,0].set_ylabel('Y')\n",
        "\n",
        "# P(Y)\n",
        "axs[0,1].barh([\"$Y=1$\", \"$Y=2$\"], [P_y1, P_y2])\n",
        "axs[0,1].set_title(\"P(Y)\")\n",
        "axs[0,1].set_xticks([])\n",
        "\n",
        "# P(X)\n",
        "ejeX = np.linspace(min(X),max(X),100)\n",
        "distri = np.linspace(min(X), max(X), len(P_X))\n",
        "axs[1,0].plot(ejeX, dist_normal((m1+m2)/2,v1+v2,ejeX))\n",
        "axs[1,0].bar(distri, P_X, width=0.5)\n",
        "axs[1,0].set_xticks([])\n",
        "axs[1,0].set_xlabel('X')\n",
        "axs[1,0].set_title(\"P(X)\")\n",
        "\n",
        "\n",
        "# P(X|Y=1)\n",
        "ejeX2 = np.linspace(min(x1), max(x1),100)\n",
        "axs[1,1].plot(ejeX2, dist_normal(m1,v1,ejeX2))\n",
        "axs[1,1].bar(distri, P_XY1, width = 0.5)\n",
        "axs[1,1].set_xticks([])\n",
        "axs[1,1].set_xlabel('X')\n",
        "axs[1,1].set_title(\"P(X|Y=1)\")\n",
        "\n",
        "plt.subplots_adjust(wspace=0.5, hspace=0.5)"
      ],
      "metadata": {
        "execution": {
          "iopub.status.busy": "2024-02-18T22:56:44.72048Z",
          "iopub.execute_input": "2024-02-18T22:56:44.721742Z",
          "iopub.status.idle": "2024-02-18T22:56:45.262442Z",
          "shell.execute_reply.started": "2024-02-18T22:56:44.72169Z",
          "shell.execute_reply": "2024-02-18T22:56:45.261402Z"
        },
        "trusted": true,
        "id": "mIGe9SLYL4kD"
      },
      "execution_count": null,
      "outputs": []
    }
  ]
}